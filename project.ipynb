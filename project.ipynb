{
 "cells": [
  {
   "cell_type": "markdown",
   "metadata": {},
   "source": [
    "\n",
    "# ISyE 6740 - Summer 2022\n",
    "# News or Nonsense? Classifying headlines from The Onion and beyond\n",
    "### by Calvin Jouard\n",
    "\n",
    "---\n",
    "\n",
    "## Problem Statement\n",
    "The Onion is a satirical news publication/media company. It produces content that riffs on current events, politics, sports and everything in between. Some examples of its ‘reporting’ include an article titled “Ben Carson slowly floats away from Earth,” and “Study reveals: Babies are stupid.” And while these headlines appear patently false, do they seem as wild when compared to headlines produced by actual news organizations? Can we programmatically and analytically determine if a headline is the work of The Onion? This is the main thrust of my project. There are some obvious implications for this kind of analysis. If we can distinguish The Onion from actual news with a significant level of accuracy, can we apply the technique to classifying “fake news” or disinformation?\n",
    "\n",
    "## Data Source\n",
    "The dataset comes from [Kaggle](https://www.kaggle.com/datasets/chrisfilo/onion-or-not). It contains 24k rows and only 2 columns—1 containing the headline, the other a label, where 1 indicates an Onion headline, and 0 a non-Onion headline. More specifically, the non-Onion articles are sourced from the subreddit [“Not the Onion.”](https://www.reddit.com/r/nottheonion/) The description of the subreddit is as follows: “For true stories that are so mind-blowingly ridiculous that you could have sworn they were from The Onion.” This is worth noting because it explains some initial bias in non-Onion headlines. These aren’t just everyday news headlines, and likely have zanier details that resemble content from The Onion. This should make for a more difficult classification task, and as such, the resulting models may not be all that effective in categorizing more mundane, ordinary headlines.\n",
    "\n",
    "## Methodology\n",
    " "
   ]
  },
  {
   "cell_type": "code",
   "execution_count": 39,
   "metadata": {},
   "outputs": [
    {
     "name": "stderr",
     "output_type": "stream",
     "text": [
      "[nltk_data] Downloading package punkt to\n",
      "[nltk_data]     /Users/calvinjouard/nltk_data...\n",
      "[nltk_data]   Package punkt is already up-to-date!\n",
      "[nltk_data] Downloading package stopwords to\n",
      "[nltk_data]     /Users/calvinjouard/nltk_data...\n",
      "[nltk_data]   Package stopwords is already up-to-date!\n"
     ]
    },
    {
     "data": {
      "text/plain": [
       "True"
      ]
     },
     "execution_count": 39,
     "metadata": {},
     "output_type": "execute_result"
    }
   ],
   "source": [
    "import pandas as pd\n",
    "import nltk\n",
    "nltk.download('punkt')\n",
    "nltk.download('stopwords')"
   ]
  },
  {
   "cell_type": "code",
   "execution_count": 40,
   "metadata": {},
   "outputs": [
    {
     "data": {
      "text/html": [
       "<div>\n",
       "<style scoped>\n",
       "    .dataframe tbody tr th:only-of-type {\n",
       "        vertical-align: middle;\n",
       "    }\n",
       "\n",
       "    .dataframe tbody tr th {\n",
       "        vertical-align: top;\n",
       "    }\n",
       "\n",
       "    .dataframe thead th {\n",
       "        text-align: right;\n",
       "    }\n",
       "</style>\n",
       "<table border=\"1\" class=\"dataframe\">\n",
       "  <thead>\n",
       "    <tr style=\"text-align: right;\">\n",
       "      <th></th>\n",
       "      <th>text</th>\n",
       "      <th>label</th>\n",
       "    </tr>\n",
       "  </thead>\n",
       "  <tbody>\n",
       "    <tr>\n",
       "      <th>491</th>\n",
       "      <td>No, Seriously. A Goat Arrested, Then Gets Bail...</td>\n",
       "      <td>0</td>\n",
       "    </tr>\n",
       "    <tr>\n",
       "      <th>492</th>\n",
       "      <td>\"On reflection, it probably wasn't the best de...</td>\n",
       "      <td>0</td>\n",
       "    </tr>\n",
       "    <tr>\n",
       "      <th>493</th>\n",
       "      <td>A judge sides with parents and rules their 30-...</td>\n",
       "      <td>0</td>\n",
       "    </tr>\n",
       "    <tr>\n",
       "      <th>494</th>\n",
       "      <td>School District Wants to Censor American Histo...</td>\n",
       "      <td>0</td>\n",
       "    </tr>\n",
       "  </tbody>\n",
       "</table>\n",
       "</div>"
      ],
      "text/plain": [
       "                                                  text  label\n",
       "491  No, Seriously. A Goat Arrested, Then Gets Bail...      0\n",
       "492  \"On reflection, it probably wasn't the best de...      0\n",
       "493  A judge sides with parents and rules their 30-...      0\n",
       "494  School District Wants to Censor American Histo...      0"
      ]
     },
     "execution_count": 40,
     "metadata": {},
     "output_type": "execute_result"
    }
   ],
   "source": [
    "# read in our data\n",
    "df = pd.read_csv('OnionOrNot.csv')\n",
    "\n",
    "df[491:495]"
   ]
  },
  {
   "cell_type": "markdown",
   "metadata": {},
   "source": [
    "An initial cursory combing of the data indicates there is substantial room for cleaning. There is a lack of standardization within headlines, with some having title-case, others sentence-case. Stop words, or extremely common unimportant words, will also need to be removed. The treatment of proper and compound nouns (i.e. 2-word nouns) will also need to be considered, as this will ultimately impact our bag-of-words model. For example, one headline may contain the name 'Jared Kushner' (a former advisor to President Trump) and another the name 'Jared Leto' (a movie star). However, if each of these are considered two entities instead of one, the term in common, Jared, may incorrectly link these headlines, and could impact categorization. As such, steps will need to be taken. \n",
    "\n",
    "First off, let's eliminate attribution tags, examples of which can be seen below:"
   ]
  },
  {
   "cell_type": "code",
   "execution_count": 41,
   "metadata": {},
   "outputs": [
    {
     "name": "stdout",
     "output_type": "stream",
     "text": [
      "Fucking Loser At Movie All By Himself | The Onion - America's Finest News Source\n",
      "Wikipedia Bans Congress [X-Post from /r/todayilearned]\n",
      "Michael Phelps Returns To His Tank At Sea World - The Onion\n"
     ]
    }
   ],
   "source": [
    "print(df.iloc[84,0])\n",
    "print(df.iloc[7883,0])\n",
    "print(df.iloc[7700,0])"
   ]
  },
  {
   "cell_type": "markdown",
   "metadata": {},
   "source": [
    "These essentially give away the label of the headline, making for poor training data. The following code will eliminate this text:"
   ]
  },
  {
   "cell_type": "code",
   "execution_count": 42,
   "metadata": {},
   "outputs": [],
   "source": [
    "import re\n",
    "\n",
    "# remove headline text that includes attribution, ie. '| The onion', or '|CBC news'\n",
    "pipe_pattern = '\\|.*'\n",
    "df['text'] = df['text'].apply(lambda x: re.sub(pipe_pattern, '', x, flags=re.DOTALL))\n",
    "\n",
    "# remove headline text that includes attribution, ie. '- The onion'\n",
    "dash_pattern = '- The Onion.*'\n",
    "df['text'] = df['text'].apply(lambda x: re.sub(dash_pattern, '', x, flags=re.DOTALL))\n",
    "\n",
    "# remove headline text that includes attribution in brackets, ie. '[Clickhole]' or '[metacritic]'\n",
    "attribution_pattern = '\\[.+\\]'\n",
    "df['text'] = df['text'].apply(lambda x: re.sub(attribution_pattern, '', x, flags=re.DOTALL))\n",
    "\n"
   ]
  },
  {
   "cell_type": "markdown",
   "metadata": {},
   "source": [
    "Next up, I'm going to build a function that addresses the rest of the data-cleaning needs. These needs are as follows:\n",
    "\n",
    "* Leveraging a list of common proper/compound nouns, ID and tag them as one entity (methods will be expanded upon below)\n",
    "\n",
    "* Eliminate stop words\n",
    "\n",
    "* Remove punctuation (i.e. commas, periods)\n",
    "\n",
    "These will be necessary, as each headline will be represented by a vector and counting the number of occurrences of each word. "
   ]
  },
  {
   "cell_type": "code",
   "execution_count": 43,
   "metadata": {},
   "outputs": [],
   "source": [
    "# string containing most common proper/common nouns detected\n",
    "\n",
    "multi_nouns = \"\"\"\n",
    "alma mater, kim jong un, kim jong-un, carly rae jepsen, holy grail, jeff sessions, hilary clinton, hillary clinton, las vegas, margot robbie, notre dame, barack obama, harry potter,\n",
    "wolfgang puck, puerto ricans, winne the pooh, emmanuel macron, los angeles, costa rica, mitch mcconnell, theresa may, eiffel tower, police man, donald trump, north korea,\n",
    "high school, bernie sanders, sean hanity, star trek, kelly-anne conway, boris johnson, hobby lobby, betsy devos, new zealand, han solo, elton john, matt damon,\n",
    "richard dawkins, osama bin laden, jason momoa, noam chomsky, j.k. rowling, Rudy Giuliani, snoop dogg, ringo starr, new hampshire, jack nicholson, abraham lincoln,\n",
    "vladimir putin, deez nuts, colin kaepernick, martin luther king, robert de niro, spongebob squarepants, george h.w. bush, dunkin' donuts, jeb bush, george w. bush,\n",
    "john hickenlooper, samsung galaxy s5, zodiac killer, planned parenthood, shia labeouf, guy fieri, ed sheeran, loch ness monster, ryan lochte, harvey weinstein,\n",
    "urban outfitters, el paso, brad pitt, george lucas, el salvador, chris pratt, lindsay lohan, glenn beck, julian assange, antonin scalia, meryl streep, dalai lama,\n",
    "marilyn manson, brett kavanaugh, ronda rousey, new orleans, bon jovi, bill belichick, alexandria ocasio-cortez, tucker carlson, ruth bader ginsburg, barron trump,\n",
    "meghan markle, milo yiannopoulos, lombardi trophy, oral sex, sierra leone, van gogh, lady gaga, hong kong, sugar daddies, mein kampf, nicholas cage, kamala harris,\n",
    "miley cyrus, krispy kreme, gwyneth paltrow, regis philbin, george r.r. martin, george rr martin, seth rogen, kevin spacey, louis vuitton, harry styles, selena gomez,\n",
    "neil degreasse tyson, joel osteen, sepp blatter, aaron rodgers, ben affleck, jeffrey dahmer, jurassic world, barbara streisand, sacha baron cohen, bill cosby, o.j. simpson,\n",
    "oj simpson, ellen degeneres, luis suarez, peppa pig, jane goodall, jim harbaugh, natalie portman, adolf hitler, cambridge analytica, adam sandler, john lennon, jackie chan,\n",
    "gordon ramsay, helen mirren, goldman sachs, tila tequila, nicki minaj, lin-manuel miranda, piers morgan, jack dorsey, marco rubio, robert downey jr., russell crowe,\n",
    "usain bolt, herman cain, marshawn lynch, zion williamson, dwayne 'the rock' johnson, dwayne johnson, newt gingrich, ku klux klan, rand paul, jerry sandusky,\n",
    "aretha franklin, bohemian rhapsody, martin shkreli, george clooney, wolf blitzer, beto o’rourke, myrtle meach, the rock, van halen, david lee roth, bill clinton,\n",
    "monica lewinsky, jaden smith, david attenborough, serena williams, grumpy cat, oprah winfrey, bryce harper, scarlett johansson, fidel castro, rodrigo duterte, cameron diaz,\n",
    "cory booker, boko haram, jennifer aniston, tel aviv, chuck norris, fort lauderdale, martha stewart, john cena, aaron hernandez, led zeppelin, jj abrams, waka flocka,\n",
    "new york, san francisco, jeff bezos, taylor swift, rex tillerson, dennis rodman, pope francis, sesame street, leonardo dicaprio, home depot, peyton manning, tom brady,\n",
    "george zimmerman, michelle obama, bill nye, roger goodell, david bowie, michele bachman, rush limbaugh, red carpet, hulk hogan, danny devito, justin bieber,\n",
    "silicon valley, mike pence, lindsey graham, kim kardashian, westboro baptist church, edward snowden, pizza hut, first responders, baby boomers, donald sterling,\n",
    "elementary school, melania trump, kanye west, ted cruz, willie nelson, thomas jefferson, stephen hawking, nate silver, dr. oz, mark zuckerberg, kobe bryant, taco bell,\n",
    "lebron james, kristen bell, fox news, supreme court, president trump, climate change, elon musk, black man, paul ryan, star wars, ice cream, burger king, police report,\n",
    "college student, north carolina, drunk driving, trump administration, joe biden, jesus christ, child support, steve bannon, ben carson, sarah palin, gay sex, florida woman,\n",
    "florida man, justin trudeau, katy perry, Chick-Fil-A, Chick-fil-A, Ajit Pai, jared kushner, kid rock, ariana grande, waffle house\n",
    "\"\"\".replace('\\n', '')\n",
    "\n",
    "nouns_list = multi_nouns.split(sep=',')\n",
    "\n",
    "nouns_list = [noun.title().strip() for noun in nouns_list]"
   ]
  },
  {
   "cell_type": "code",
   "execution_count": 44,
   "metadata": {},
   "outputs": [],
   "source": [
    "headlines = df['text']"
   ]
  },
  {
   "cell_type": "code",
   "execution_count": 45,
   "metadata": {},
   "outputs": [],
   "source": [
    "# function that cleans each headline\n",
    "def cleaner(string):\n",
    "\n",
    "    #ID proper/compound nouns, smush them together\n",
    "    for noun in nouns_list: # loop through noun list\n",
    "        if noun in string: # if noun exists in string, replace it, otherwise assign string to new variable\n",
    "            new_string = re.sub(noun, noun.replace(\" \",\"\"), string)\n",
    "            break\n",
    "        else:\n",
    "            new_string = string\n",
    "\n",
    "    # replace open, closing apost. w/ normal so that stopwords can be detected\n",
    "    new_string = re.sub(\"\\’|\\’\", \"'\", new_string)\n",
    "    new_string = re.sub(\"\\“|\\”\", '\"', new_string)\n",
    "    \n",
    "    # then remove stopwords\n",
    "    string_list = new_string.split() #construct list of words from string\n",
    "    few_stops = \" \".join([word.lower() for word in string_list if word.lower().strip(\"‘’“”\\\"\\'\") not in nltk.corpus.stopwords.words('english')])\n",
    "    \n",
    "    # then remove punctuation\n",
    "    essential_chars = [letter for letter in few_stops if letter.isalnum() or letter.isspace()]\n",
    "    cleaned_string = \"\".join(essential_chars)\n",
    "    \n",
    "    return cleaned_string.split()\n",
    "    "
   ]
  },
  {
   "cell_type": "code",
   "execution_count": 46,
   "metadata": {},
   "outputs": [],
   "source": [
    "# apply cleaner to our text column\n",
    "headlines = df['text'].apply(cleaner)"
   ]
  },
  {
   "cell_type": "markdown",
   "metadata": {},
   "source": [
    "### Brief Aside: Pairwise Association for detecting common proper/compound nouns\n",
    "\n",
    "For the purposes of this problem, we can use pairwise association to estimate the probability that a given word exists in a headline based upon the existence of another word in the headline, i.e. $P(\"Barack Obama\" | \"White House\")$. The algorithm I've implemented (sourced from the CSE 6040 course) calculates this conditional probability. The idea is that we should see higher probabilities for words that tend to appear together, and some of those words should be compound and proper nouns. The implementation below was used to build the string variable `multi_nouns` that you saw previously."
   ]
  },
  {
   "cell_type": "code",
   "execution_count": 47,
   "metadata": {},
   "outputs": [
    {
     "data": {
      "text/plain": [
       "0    {staff, settings, man, laughs, entire, tighten...\n",
       "1    {muslim, weapon, soda, could, denied, use, wom...\n",
       "2    {announced, theyre, hulu, reboot, gonna, move,...\n",
       "3    {back, divorce, realizes, jeffbezos, 9, money,...\n",
       "4    {longterm, men, love, frustrating, great, task...\n",
       "Name: text, dtype: object"
      ]
     },
     "execution_count": 47,
     "metadata": {},
     "output_type": "execute_result"
    }
   ],
   "source": [
    "# make each cleaned headline entry an itemset\n",
    "headlines = headlines.apply(lambda x: set(x))\n",
    "headlines.head()"
   ]
  },
  {
   "cell_type": "code",
   "execution_count": 48,
   "metadata": {},
   "outputs": [
    {
     "name": "stdout",
     "output_type": "stream",
     "text": [
      "[(('arabia', 'saudi'), 0.975), (('fifty', 'shades'), 0.9473684210526315), (('what', 'said'), 0.9393939393939394), (('diego', 'san'), 0.9375), (('rodman', 'dennis'), 0.9230769230769231), (('offender', 'sex'), 0.9166666666666666), (('dicaprio', 'leonardo'), 0.9166666666666666), (('leonardo', 'dicaprio'), 0.9166666666666666)]\n"
     ]
    }
   ],
   "source": [
    "from collections import defaultdict\n",
    "from itertools import combinations\n",
    "\n",
    "# function for updating our pair counts\n",
    "def update_pair_counts(pair_counts, wordset):\n",
    "    '''\n",
    "    updates a dictionary of pair counts for all pairs of items in a given set of words.\n",
    "    '''\n",
    "    assert type(pair_counts) is defaultdict\n",
    "\n",
    "    for (a,b) in combinations(wordset,2):\n",
    "        pair_counts[(a,b)] += 1\n",
    "        pair_counts[(b,a)] += 1\n",
    "\n",
    "# function for updating individual word counts\n",
    "def update_word_counts(word_counts, wordset):\n",
    "    for a in wordset:\n",
    "        word_counts[a] += 1\n",
    "\n",
    "# function that generates confidence rules and filters by a threshold\n",
    "def filter_rules_by_conf(pair_counts, word_counts, threshold=0):\n",
    "    rules = {}\n",
    "\n",
    "    for (a, b) in pair_counts:\n",
    "        assert a in word_counts\n",
    "        conf_ab = pair_counts[(a,b)] / word_counts[a]\n",
    "        if conf_ab >= threshold:\n",
    "            rules[(a,b)] = conf_ab\n",
    "    return rules\n",
    "\n",
    "pair_counts = defaultdict(int)\n",
    "\n",
    "# calculate # of times each word pairing occurs\n",
    "for i in headlines:\n",
    "    update_pair_counts(pair_counts, i)\n",
    "\n",
    "word_counts = defaultdict(int)\n",
    "\n",
    "# calculate # of times each word occurs\n",
    "for i in headlines:\n",
    "    update_word_counts(word_counts, i)\n",
    "\n",
    "# generate dictionary containing confidence rules (probabilities) for pairwise implication\n",
    "conf_rules = filter_rules_by_conf(pair_counts, word_counts)\n",
    "\n",
    "rules_sorted = {k:v for k,v in sorted(conf_rules.items(), key=lambda item: item[1], reverse=True)}\n",
    "\n",
    "filtered_rules = dict(filter(lambda x: x[1] != 1, rules_sorted.items()))\n",
    "\n",
    "print(list(filtered_rules.items())[:8])"
   ]
  },
  {
   "cell_type": "markdown",
   "metadata": {},
   "source": [
    "The above snippet shows some of the highest probability pairs. Almost all pairs (apart from 'fifty shades' and 'what said') are compound or proper nouns that we should account for when building our bag-of-words model. "
   ]
  },
  {
   "cell_type": "code",
   "execution_count": 49,
   "metadata": {},
   "outputs": [
    {
     "name": "stdout",
     "output_type": "stream",
     "text": [
      "[(('police', 'man'), 0.21040189125295508), (('man', 'police'), 0.08286778398510242), (('house', 'white'), 0.4942528735632184), (('white', 'house'), 0.48179271708683474), (('finds', 'study'), 0.4816053511705686), (('study', 'finds'), 0.4186046511627907), (('arrested', 'man'), 0.3604336043360434), (('man', 'arrested'), 0.06191806331471136)]\n"
     ]
    }
   ],
   "source": [
    "# filter dictionary so that underlying pair counts for each pair is greater than 2\n",
    "reduced_conf_rules = dict(filter(lambda elem: pair_counts[elem[0]] > 2, rules_sorted.items()))\n",
    "\n",
    "# sort filtered dict of rules by pair counts\n",
    "freq_conf_rules = dict(sorted(reduced_conf_rules.items(), key=lambda x: pair_counts[x[0]], reverse=True))\n",
    "\n",
    "print(list(freq_conf_rules.items())[:8])"
   ]
  },
  {
   "cell_type": "markdown",
   "metadata": {},
   "source": [
    "The `freq_conf_rules` variable is of the same dictionary, however we're sorting our conditional probabilities by pair counts to get another view of compound/proper nouns. As you can see, this view also yields some useful pairings, like police man and White House. I went through each of these dictionaries manually to pull the top proper/compound nouns out. These nouns were then leveraged in the `cleaner` function above to 'tag' proper nouns in each headline.\n",
    "\n",
    "### Dataset Construction\n",
    "\n",
    "Having cleaned each headline, we're now ready to construct our bag-of-words representation. To do so I'll:\n",
    "\n",
    "1. Assign a number to each word that appears in our dataset.\n",
    "\n",
    "2. Initialize a vector for each headline, containing the counts of each word at the appropriate index assigned in step 1.    "
   ]
  },
  {
   "cell_type": "code",
   "execution_count": 50,
   "metadata": {},
   "outputs": [],
   "source": [
    "# generate dictionary assigning index to each word, for all words\n",
    "import numpy as np\n",
    "\n",
    "word_indxs = {}\n",
    "\n",
    "for key, index in zip(word_counts, range(len(word_counts))):\n",
    "\n",
    "    word_indxs[key] = index\n",
    "\n",
    "\n",
    "# instantiate a vector the size of the number of words there are in total\n",
    "headline_array = np.zeros(shape=(len(headlines),len(word_indxs)))\n",
    "\n",
    "# loop through words in headlines. if the word is in the headline, find the index of that word in the vector, put a 1\n",
    "for row_index, headline in enumerate(headlines):\n",
    "\n",
    "    for word in headline:\n",
    "\n",
    "        col_index = word_indxs[word]\n",
    "\n",
    "        headline_array[row_index, col_index] += 1"
   ]
  },
  {
   "cell_type": "markdown",
   "metadata": {},
   "source": [
    "### PCA representation\n",
    "\n",
    "Since this is a feature rich dataset (more than 27,000 total words used in headlines) I'll perform PCA to reduce our dimensionality:"
   ]
  },
  {
   "cell_type": "code",
   "execution_count": 51,
   "metadata": {},
   "outputs": [],
   "source": [
    "from sklearn.decomposition import PCA, KernelPCA\n",
    "import matplotlib.pyplot as plt\n",
    "\n",
    "# extract labels\n",
    "headline_labels = np.array(df.iloc[:,1])\n",
    "\n",
    "pca = PCA(n_components=2)\n",
    "pca = pca.fit(headline_array)\n",
    "pdata = pca.fit_transform(headline_array)\n",
    "\n",
    "kernel_pca = KernelPCA(n_components=2, kernel='rbf')\n",
    "kpdata = kernel_pca.fit_transform(headline_array)"
   ]
  },
  {
   "cell_type": "code",
   "execution_count": 52,
   "metadata": {},
   "outputs": [
    {
     "data": {
      "text/plain": [
       "Text(0, 0.5, 'Principal Component #2')"
      ]
     },
     "execution_count": 52,
     "metadata": {},
     "output_type": "execute_result"
    },
    {
     "data": {
      "image/png": "[encoded data removed]",
      "text/plain": [
       "<Figure size 864x360 with 2 Axes>"
      ]
     },
     "metadata": {
      "needs_background": "light"
     },
     "output_type": "display_data"
    }
   ],
   "source": [
    "# plot 1st and 2nd components\n",
    "fig, ax = plt.subplots(1,2, figsize=(12,5))\n",
    "fig.subplots_adjust(wspace=0.25)\n",
    "ax[0].scatter(pdata[:,0], pdata[:,1], s=0.5, c=headline_labels, cmap='PiYG')\n",
    "ax[0].title.set_text(\"Plotted Principal Components (linear)\")\n",
    "ax[0].set_xlabel(\"Principal Component #1\")\n",
    "ax[0].set_ylabel(\"Principal Component #2\")\n",
    "ax[1].scatter(kpdata[:,0], kpdata[:,1], s=0.5, c=headline_labels, cmap='PiYG')\n",
    "ax[1].title.set_text(\"Plotted Principal Components (non-linear kernel)\")\n",
    "ax[1].set_xlabel(\"Principal Component #1\")\n",
    "ax[1].set_ylabel(\"Principal Component #2\")"
   ]
  },
  {
   "cell_type": "markdown",
   "metadata": {},
   "source": [
    "Just from eyeballing the two plots, it would appear that the non-linear PCA representation (which leveraged the radial basis kernel function) is identical to the linear PCA version, though with a slightly different scale. This suggests to me that it's probably fine going with the linear representation. Additionally, there already appear to be clusters in the data after reducing to 2 dimensions.\n",
    "\n",
    "In this case, color represents the point's true label. Colors are interspersed within each cluster, with no clear decision boundary visible. This suggests a harder classification task at hand. \n",
    "\n",
    "To get a sense of whether we should use these reduced representations, let's take a look at the explained variance:"
   ]
  },
  {
   "cell_type": "code",
   "execution_count": 53,
   "metadata": {},
   "outputs": [
    {
     "name": "stdout",
     "output_type": "stream",
     "text": [
      "Variance explained by 1st and 2nd principal components, respectively: 8.38%, 4.01%\n"
     ]
    }
   ],
   "source": [
    "print(f\"Variance explained by 1st and 2nd principal components, respectively: {round(pca.explained_variance_[0]*100, 2)}%, {round(pca.explained_variance_[1]*100, 2)}%\")"
   ]
  },
  {
   "cell_type": "markdown",
   "metadata": {},
   "source": [
    "In all, linear PCA with 2 components only explains 12% of the total variance within the dataset, which makes me think we should avoid using this method if possible. This isn't totally unexpected, given the bag-of-words model contains ~27,000 values.\n",
    "\n",
    "### Model fitting and analysis"
   ]
  },
  {
   "cell_type": "code",
   "execution_count": 54,
   "metadata": {},
   "outputs": [
    {
     "data": {
      "text/plain": [
       "{'n_neighbors': 2}"
      ]
     },
     "execution_count": 54,
     "metadata": {},
     "output_type": "execute_result"
    }
   ],
   "source": [
    "from sklearn.model_selection import train_test_split, GridSearchCV\n",
    "from sklearn.naive_bayes import GaussianNB\n",
    "from sklearn.neighbors import KNeighborsClassifier\n",
    "from sklearn.linear_model import LogisticRegression\n",
    "from sklearn.ensemble import RandomForestClassifier\n",
    "\n",
    "X_train, X_test, y_train, y_test, inds_train, inds_test = train_test_split(headline_array, headline_labels, np.arange(len(headline_array)), test_size=0.3, random_state=69)\n",
    "\n",
    "nb = GaussianNB()\n",
    "nb.fit(X_train, y_train)\n",
    "nb_score = nb.score(X_test, y_test)\n",
    "\n",
    "logreg = LogisticRegression(random_state=55)\n",
    "logreg.fit(X_train, y_train)\n",
    "logreg_score = logreg.score(X_test, y_test)\n",
    "\n",
    "# determining the ideal number of neighbors for our k-nearest neighbor model\n",
    "neighbors = {'n_neighbors': np.arange(1,5)}\n",
    "knn = GridSearchCV(KNeighborsClassifier(), neighbors, cv=5, scoring='accuracy') # leverage 10-fold cross-validation to confirm neighbor\n",
    "knn.fit(X_train, y_train)\n",
    "knn_score = knn.score(X_test, y_test)\n",
    "knn.best_params_"
   ]
  },
  {
   "cell_type": "markdown",
   "metadata": {},
   "source": [
    "After testing 1 up through 5 nearest neighbors for the KNN model, the ideal number of neighbors, based upon classification accuracy, is 2."
   ]
  },
  {
   "cell_type": "code",
   "execution_count": 55,
   "metadata": {},
   "outputs": [
    {
     "data": {
      "text/html": [
       "<div>\n",
       "<style scoped>\n",
       "    .dataframe tbody tr th:only-of-type {\n",
       "        vertical-align: middle;\n",
       "    }\n",
       "\n",
       "    .dataframe tbody tr th {\n",
       "        vertical-align: top;\n",
       "    }\n",
       "\n",
       "    .dataframe thead th {\n",
       "        text-align: right;\n",
       "    }\n",
       "</style>\n",
       "<table border=\"1\" class=\"dataframe\">\n",
       "  <thead>\n",
       "    <tr style=\"text-align: right;\">\n",
       "      <th></th>\n",
       "      <th>Classifier</th>\n",
       "      <th>Test Accuracy</th>\n",
       "    </tr>\n",
       "  </thead>\n",
       "  <tbody>\n",
       "    <tr>\n",
       "      <th>0</th>\n",
       "      <td>Naive Bayes</td>\n",
       "      <td>0.62</td>\n",
       "    </tr>\n",
       "    <tr>\n",
       "      <th>1</th>\n",
       "      <td>Logistic Regression</td>\n",
       "      <td>0.83</td>\n",
       "    </tr>\n",
       "    <tr>\n",
       "      <th>2</th>\n",
       "      <td>K-nearest Neighbor</td>\n",
       "      <td>0.45</td>\n",
       "    </tr>\n",
       "    <tr>\n",
       "      <th>3</th>\n",
       "      <td>Random Forest</td>\n",
       "      <td>0.79</td>\n",
       "    </tr>\n",
       "  </tbody>\n",
       "</table>\n",
       "</div>"
      ],
      "text/plain": [
       "            Classifier  Test Accuracy\n",
       "0          Naive Bayes           0.62\n",
       "1  Logistic Regression           0.83\n",
       "2   K-nearest Neighbor           0.45\n",
       "3        Random Forest           0.79"
      ]
     },
     "execution_count": 55,
     "metadata": {},
     "output_type": "execute_result"
    }
   ],
   "source": [
    "forest = RandomForestClassifier(n_estimators=13, random_state=9)\n",
    "forest.fit(X_train, y_train)\n",
    "forest_score = forest.score(X_test, y_test)\n",
    "\n",
    "test_scores = {'Classifier': ['Naive Bayes', 'Logistic Regression', 'K-nearest Neighbor', 'Random Forest'], 'Test Accuracy':[nb_score, logreg_score, knn_score, forest_score]}\n",
    "df_scores = pd.DataFrame(test_scores)\n",
    "df_scores['Test Accuracy'] = round(df_scores['Test Accuracy'], 2)\n",
    "df_scores"
   ]
  },
  {
   "cell_type": "markdown",
   "metadata": {},
   "source": [
    "## Evaluation and Final Results\n",
    "\n",
    "With the principal evaluation metric being testing accuracy (number correct out of all test points), logistic regression takes the cake (see table above). If I had to venture a guess as to why this was the case, it could be due to the fact that logistic regression assigns probabilities to labels and thus performs better when there's a less-clear distinction between classes. That's certainly the case with this dataset, as evidenced by the PCA representation. The random forest accuracy rate of 79% isn't far behind, and the discrepancy between the two could very well be chalked up to the random train/test split. The Naive Bayes and K-nearest neighbor classifiers performed substantially worse. The accuracy for the latter could've potentially been improved had I tested additional numbers of neighbors. \n",
    "\n",
    "An accuracy rate of 83% isn't bad, though I'd hoped for better. There are undoubtedly actions that could be taken to improve upon this, which I will expound upon later on.\n",
    "\n",
    "### Potential bias?\n",
    "\n",
    "Although the 2-component representation of the data only represents 12% of the total variance in the dataset, the clusters in the plot this still suggests to me that there is likely some bias within the dataset, specifically in the headlines that weren't from \"The Onion\". My suspicion coming in was that more sensational headlines made up this class of non-Onion headlines, to make the classification task more difficult. This of course isn't truly representative of all non-Onion headlines. Some non-Onion headlines include: \n",
    "\n",
    "* Former Belgian King fined $5k a day until he takes Paternity test\n",
    "\n",
    "* 'Seductive' dress gets girl barred from chess tournament\n",
    "\n",
    "* No, Seriously. A Goat Arrested, Then Gets Bail In Chhattisgarh\n",
    "\n",
    "Had time permitted, I would've like to have added 'less sensational' data points to the dataset. \n",
    "\n",
    "On the other hand, if we assume the dataset is actually irregularly shaped, it would've been ideal to explore more non-linear methods of classification. I would've also like to have investigated AdaBoost. \n",
    "\n",
    "### Opportunities for further improvement\n",
    "\n",
    "Improvement in test accuracy would likely come as a result of a few actions. For one, there are certainly more things that could be done to initially clean the data and reduce the number of features, thereby reducing computational time. The specific recommendations are as follows:\n",
    "\n",
    "1. Standardize numeric representation--either convert all numbers to a word representation (i.e. 9 → nine) or visa versa.\n",
    "\n",
    "2. Expand the definition of 'stop word' to further hone the list of accepted words. Excluding, for example, 'can't' and 'would'\n",
    "\n",
    "3. Consolidating word tenses to a single representation. For example, \"ran,\" \"run,\" and \"running\" could be consolidated to the present tense \"run\", thus reducing our feature vector further.\n",
    "\n",
    "4. Tag all compound/proper nouns--I only did so for those most frequently occurring\n",
    "\n",
    "Had time permitted, I would've also liked to have expanded hyperparameter tuning. For the K-nearest neighbor model, I was only able to test models that utilized up to 5-nearest neighbors for classification, while upwards of 50 would've been preferred. For the logistic regression model, I would've enjoyed manipulating the penalty parameter (used L2) and manipulating the regularization strength with the C hyperparameter (utilized 1.0). And for the random forest model, I limited the number of trees used to 13 to reduce computational time. It would've been interesting to both expand the number of trees used and examine the O.O.B. error as the number of trees used increased. \n",
    "\n",
    "Another interesting avenue would've been the generation of confusion matrices for each model. In my view, it's likely worse to not classify a headline that is indeed from \"The Onion\" than to label real news as Onion-generated. This could very well impact which classification model is deemed \"better.\""
   ]
  }
 ],
 "metadata": {
  "interpreter": {
   "hash": "aa8295c3b169e27fe29b33273bcb6336920eafc41826407502daec3aff77efc4"
  },
  "kernelspec": {
   "display_name": "Python 3.8.8 ('base')",
   "language": "python",
   "name": "python3"
  },
  "language_info": {
   "codemirror_mode": {
    "name": "ipython",
    "version": 3
   },
   "file_extension": ".py",
   "mimetype": "text/x-python",
   "name": "python",
   "nbconvert_exporter": "python",
   "pygments_lexer": "ipython3",
   "version": "3.9.12"
  },
  "orig_nbformat": 4
 },
 "nbformat": 4,
 "nbformat_minor": 2
}
